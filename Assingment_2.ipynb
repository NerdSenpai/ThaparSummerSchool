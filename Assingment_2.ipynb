{
  "nbformat": 4,
  "nbformat_minor": 0,
  "metadata": {
    "colab": {
      "provenance": [],
      "authorship_tag": "ABX9TyPk4AKuI3q758WrYwiho4aO",
      "include_colab_link": true
    },
    "kernelspec": {
      "name": "python3",
      "display_name": "Python 3"
    },
    "language_info": {
      "name": "python"
    }
  },
  "cells": [
    {
      "cell_type": "markdown",
      "metadata": {
        "id": "view-in-github",
        "colab_type": "text"
      },
      "source": [
        "<a href=\"https://colab.research.google.com/github/NerdSenpai/ThaparSummerSchool/blob/main/Assingment_2.ipynb\" target=\"_parent\"><img src=\"https://colab.research.google.com/assets/colab-badge.svg\" alt=\"Open In Colab\"/></a>"
      ]
    },
    {
      "cell_type": "code",
      "execution_count": 1,
      "metadata": {
        "colab": {
          "base_uri": "https://localhost:8080/"
        },
        "id": "8WHJ9WiI6LPm",
        "outputId": "28007c9e-2003-4028-9e75-87bf9ed1c39f"
      },
      "outputs": [
        {
          "output_type": "stream",
          "name": "stdout",
          "text": [
            "[1, 2, 3, 'Aman', 'Ram', 'Shyam']\n"
          ]
        }
      ],
      "source": [
        "L = [\"Ram\", 1, \"Shyam\", 2, \"Aman\", 3]\n",
        "\n",
        "# Separate the elements based on their data types\n",
        "integers = [x for x in L if isinstance(x, int)]\n",
        "strings = [x for x in L if isinstance(x, str)]\n",
        "\n",
        "# Sort the individual lists\n",
        "integers.sort()\n",
        "strings.sort()\n",
        "\n",
        "# Merge the sorted lists back into a single list\n",
        "sorted_list = integers + strings\n",
        "\n",
        "print(sorted_list)\n"
      ]
    }
  ]
}